{
 "cells": [
  {
   "cell_type": "code",
   "execution_count": 1,
   "id": "8774f5d0-9a31-4133-9b35-620fcadcbf36",
   "metadata": {},
   "outputs": [
    {
     "data": {
      "text/plain": [
       "2"
      ]
     },
     "execution_count": 1,
     "metadata": {},
     "output_type": "execute_result"
    }
   ],
   "source": [
    "1 + 1\n"
   ]
  },
  {
   "cell_type": "code",
   "execution_count": 2,
   "id": "ccaf511e-3130-4d2e-9452-4e9b7264d6a7",
   "metadata": {},
   "outputs": [
    {
     "data": {
      "text/plain": [
       "106565272"
      ]
     },
     "execution_count": 2,
     "metadata": {},
     "output_type": "execute_result"
    }
   ],
   "source": [
    "2344 * 45463"
   ]
  },
  {
   "cell_type": "code",
   "execution_count": null,
   "id": "a9c44df7-dd0d-49a1-b9a1-bb564489b053",
   "metadata": {},
   "outputs": [],
   "source": [
    "Helllo world\n"
   ]
  }
 ],
 "metadata": {
  "kernelspec": {
   "display_name": "Python",
   "language": "python",
   "name": "conda-env-python-py"
  },
  "language_info": {
   "codemirror_mode": {
    "name": "ipython",
    "version": 3
   },
   "file_extension": ".py",
   "mimetype": "text/x-python",
   "name": "python",
   "nbconvert_exporter": "python",
   "pygments_lexer": "ipython3",
   "version": "3.7.12"
  }
 },
 "nbformat": 4,
 "nbformat_minor": 5
}
